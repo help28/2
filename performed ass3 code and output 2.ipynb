{
 "cells": [
  {
   "cell_type": "code",
   "execution_count": 2,
   "id": "5e3d20c0",
   "metadata": {},
   "outputs": [],
   "source": [
    "import tensorflow as tf\n",
    "import pandas as pd\n",
    "import matplotlib.pyplot as plt\n",
    "from tensorflow.keras.layers import Conv2D, MaxPool2D, Flatten, Dense"
   ]
  },
  {
   "cell_type": "code",
   "execution_count": null,
   "id": "93a8b17c",
   "metadata": {},
   "outputs": [
    {
     "name": "stdout",
     "output_type": "stream",
     "text": [
      "Downloading data from https://www.cs.toronto.edu/~kriz/cifar-10-python.tar.gz\n",
      " 31236096/170498071 [====>.........................] - ETA: 15:35"
     ]
    }
   ],
   "source": [
    "cifar=tf.keras.datasets.cifar10\n",
    "(x_train,y_train),(x_test,y_test)=cifar.load_data()"
   ]
  },
  {
   "cell_type": "code",
   "execution_count": null,
   "id": "81db330b",
   "metadata": {},
   "outputs": [],
   "source": [
    "x_train[1].shape"
   ]
  },
  {
   "cell_type": "code",
   "execution_count": null,
   "id": "c61518fe",
   "metadata": {},
   "outputs": [],
   "source": [
    "plt.matshow(x_train[1])"
   ]
  },
  {
   "cell_type": "code",
   "execution_count": null,
   "id": "ebae447f",
   "metadata": {},
   "outputs": [],
   "source": [
    "model_10 = tf.keras.Sequential([\n",
    "  Conv2D(filters=32,kernel_size=(3, 3), activation='relu', input_shape=(32,32, 3)),\n",
    "  MaxPool2D(),\n",
    "  Conv2D(filters=32,kernel_size=(3, 3), activation='relu'),\n",
    "  MaxPool2D(),\n",
    "  Flatten(),\n",
    "  Dense(100, activation='relu'),\n",
    "  Dense(10, activation='softmax')\n",
    "])\n",
    "\n",
    "model_10.compile(loss='sparse_categorical_crossentropy',\n",
    "                 optimizer='adam',\n",
    "                 metrics=['accuracy'])\n",
    "\n",
    "\n",
    "history_10 = model_10.fit(x_train,y_train,validation_data=(x_test,y_test),epochs=10 )"
   ]
  },
  {
   "cell_type": "code",
   "execution_count": null,
   "id": "31f18e99",
   "metadata": {},
   "outputs": [],
   "source": [
    "pd.DataFrame(history_10.history).plot()"
   ]
  },
  {
   "cell_type": "code",
   "execution_count": null,
   "id": "b8c25c65",
   "metadata": {},
   "outputs": [],
   "source": []
  }
 ],
 "metadata": {
  "kernelspec": {
   "display_name": "Python 3",
   "language": "python",
   "name": "python3"
  },
  "language_info": {
   "codemirror_mode": {
    "name": "ipython",
    "version": 3
   },
   "file_extension": ".py",
   "mimetype": "text/x-python",
   "name": "python",
   "nbconvert_exporter": "python",
   "pygments_lexer": "ipython3",
   "version": "3.8.8"
  }
 },
 "nbformat": 4,
 "nbformat_minor": 5
}
