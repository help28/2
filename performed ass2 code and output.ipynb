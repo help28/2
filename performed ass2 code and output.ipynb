{
 "cells": [
  {
   "cell_type": "code",
   "execution_count": 22,
   "id": "c86e0929",
   "metadata": {},
   "outputs": [],
   "source": [
    "#TensorFlow is an open-source software library.\n",
    "#used for machine learning applications like neural networks.\n",
    "#Keras is a high-level, deep learning API developed by Google for implementing\n",
    "#neural networks.\n",
    "#It is written in Python and is used to make the implementation of neural networks easy. \n",
    "#It also supports multiple backend neural network computation."
   ]
  },
  {
   "cell_type": "code",
   "execution_count": 40,
   "id": "d12a80c2",
   "metadata": {},
   "outputs": [],
   "source": [
    "#a. Import the neccessary package\n",
    "# from tensorflow import keras\n",
    "# import matplotlib.pyplot as plt\n",
    "# import numpy as np\n",
    "\n",
    "import tensorflow as tf\n",
    "import pandas as pd\n",
    "import random\n",
    "import matplotlib.pyplot as plt\n",
    "from tensorflow import keras\n",
    "import numpy as np"
   ]
  },
  {
   "cell_type": "code",
   "execution_count": 25,
   "id": "ebfa3484",
   "metadata": {},
   "outputs": [],
   "source": [
    "#b. Load the training and testing data\n",
    "# MNIST set is a large collection of handwritten digits. \n",
    "\n",
    "mnist = tf.keras.datasets.mnist\n",
    "(x_train, y_train), (x_test, y_test) =mnist.load_data()"
   ]
  },
  {
   "cell_type": "code",
   "execution_count": 26,
   "id": "55fee66b",
   "metadata": {},
   "outputs": [],
   "source": [
    "#60000 data from data set is assigned to x_train\n",
    "# len(x_train)\n",
    "\n",
    "#10000 data from data set is assigned to x_test\n",
    "# len(x_test)\n",
    "\n",
    "# this shows the 2d array(28,28) 28 array with 28 values\n",
    "# x_train.shape\n",
    "\n",
    "# x_test.shape\n",
    "\n",
    "#array values of 2nd data\n",
    "# x_train[2]\n",
    "\n",
    "#we can change it by changing the argument\n",
    "# plt.matshow(x_train[2])"
   ]
  },
  {
   "cell_type": "code",
   "execution_count": 27,
   "id": "67a1d171",
   "metadata": {},
   "outputs": [],
   "source": [
    "#feature scaling\n",
    "#Feature scaling is a method used to normalize the range of independent variable\n",
    "#or features of data.\n",
    "#In data processing, it is also known as data normalization and is generally \n",
    "#performed during the data preprocessing step\n",
    "#to handle highly varying magnitudes or values or units.\n",
    "\n",
    "x_train = x_train/255\n",
    "x_test = x_test/255"
   ]
  },
  {
   "cell_type": "code",
   "execution_count": 28,
   "id": "0ec3243f",
   "metadata": {},
   "outputs": [
    {
     "name": "stdout",
     "output_type": "stream",
     "text": [
      "Model: \"sequential_1\"\n",
      "_________________________________________________________________\n",
      "Layer (type)                 Output Shape              Param #   \n",
      "=================================================================\n",
      "flatten_1 (Flatten)          (None, 784)               0         \n",
      "_________________________________________________________________\n",
      "dense_2 (Dense)              (None, 128)               100480    \n",
      "_________________________________________________________________\n",
      "dense_3 (Dense)              (None, 10)                1290      \n",
      "=================================================================\n",
      "Total params: 101,770\n",
      "Trainable params: 101,770\n",
      "Non-trainable params: 0\n",
      "_________________________________________________________________\n"
     ]
    }
   ],
   "source": [
    "#define the network architecture usig keras\n",
    "\n",
    "# We create a Sequential model and add layers one at a time until we are happy\n",
    "# with our network architecture. \n",
    "#The first thing to get right is to ensure the input layer has the correct \n",
    "#number of input features. \n",
    "#This can be specified when creating the first layer with the input_shape \n",
    "#argument and setting it to(8,) for presenting the eight input variables as a\n",
    "# vector.\n",
    "\n",
    "#Fully connected layers are defined using the Dense class. You can specify the \n",
    "#number of neurons or nodes in the layer as the first argument \n",
    "#and the activation function using the activation argument.\n",
    "\n",
    "# The model expects rows of data with 8 variables (input_shape=(8,) argument).\n",
    "# The first hidden layer has 128 nodes and uses the relu activation function.\n",
    "# The second hidden layer has 10 nodes and uses the relu activation function.\n",
    "# The output layer has one node and uses the softmax activation function.\n",
    "\n",
    "#flatten use to reduce matrix into liner form that is one dimension\n",
    "\n",
    "model = tf.keras.Sequential([\n",
    "    tf.keras.layers.Flatten(input_shape=(28,28)),\n",
    "    tf.keras.layers.Dense(128, activation='relu'),  #Fully connected layers\n",
    "    tf.keras.layers.Dense(10, activation='softmax')\n",
    "])\n",
    "\n",
    "model.summary()"
   ]
  },
  {
   "cell_type": "code",
   "execution_count": 50,
   "id": "74b0fca7",
   "metadata": {},
   "outputs": [
    {
     "name": "stdout",
     "output_type": "stream",
     "text": [
      "Epoch 1/10\n",
      "1875/1875 [==============================] - 1s 635us/step - loss: 0.1042 - accuracy: 0.9711\n",
      "Epoch 2/10\n",
      "1875/1875 [==============================] - 1s 526us/step - loss: 0.1005 - accuracy: 0.9722\n",
      "Epoch 3/10\n",
      "1875/1875 [==============================] - 1s 530us/step - loss: 0.0972 - accuracy: 0.9731\n",
      "Epoch 4/10\n",
      "1875/1875 [==============================] - 1s 535us/step - loss: 0.0940 - accuracy: 0.9741\n",
      "Epoch 5/10\n",
      "1875/1875 [==============================] - 1s 542us/step - loss: 0.0910 - accuracy: 0.9750\n",
      "Epoch 6/10\n",
      "1875/1875 [==============================] - 1s 541us/step - loss: 0.0881 - accuracy: 0.9759\n",
      "Epoch 7/10\n",
      "1875/1875 [==============================] - 1s 556us/step - loss: 0.0853 - accuracy: 0.9765\n",
      "Epoch 8/10\n",
      "1875/1875 [==============================] - 1s 573us/step - loss: 0.0831 - accuracy: 0.9776\n",
      "Epoch 9/10\n",
      "1875/1875 [==============================] - 1s 540us/step - loss: 0.0807 - accuracy: 0.9782\n",
      "Epoch 10/10\n",
      "1875/1875 [==============================] - 1s 562us/step - loss: 0.0782 - accuracy: 0.9786\n"
     ]
    }
   ],
   "source": [
    "#train the model using SGD\n",
    "\n",
    "# We will define the optimizer as the efficient stochastic gradient descent \n",
    "# algorithm “sgd“. This is a popular version of gradient descent because it \n",
    "# automatically tunes itself and gives good results in a wide range of problems.\n",
    "\n",
    "# Sparse cross-entropy can be used in keras for multi-class classification by using\n",
    "\n",
    "#Finally, because it is a classification problem, you will collect and report\n",
    "#the classification accuracy defined via the metrics argument.\n",
    "\n",
    "# An epoch is a term used in machine learning and indicates the number of passes\n",
    "# of the entire training dataset the machine learning algorithm has completed. \n",
    "# Datasets are usually grouped into batches (especially when the amount of data \n",
    "# is very large)\n",
    "\n",
    "#verbose is the choice that how you want to see the output of your Nural Network while \n",
    "#it's training. If you set verbose = 0, It will show nothing.\n",
    "\n",
    "model.compile(optimizer='sgd',\n",
    "             loss='sparse_categorical_crossentropy',\n",
    "             metrics=['accuracy'])\n",
    "\n",
    "history=model.fit(x_train, y_train, epochs=10)"
   ]
  },
  {
   "cell_type": "code",
   "execution_count": 51,
   "id": "31696d35",
   "metadata": {},
   "outputs": [
    {
     "name": "stdout",
     "output_type": "stream",
     "text": [
      "Loss= 0.0988093763589859\n",
      "Accuracy= 0.9696000218391418\n"
     ]
    }
   ],
   "source": [
    "#evaluate the network\n",
    "\n",
    "#means calculating loss and accuracy on testing data\n",
    "\n",
    "test_loss, test_acc=model.evaluate(x_test, y_test, verbose=0)\n",
    "print(\"Loss=\", test_loss)\n",
    "print(\"Accuracy=\", test_acc)"
   ]
  },
  {
   "cell_type": "code",
   "execution_count": 45,
   "id": "15dee880",
   "metadata": {},
   "outputs": [
    {
     "data": {
      "text/plain": [
       "<function matplotlib.pyplot.show(close=None, block=None)>"
      ]
     },
     "execution_count": 45,
     "metadata": {},
     "output_type": "execute_result"
    },
    {
     "data": {
      "image/png": "[encoded data removed]",
      "text/plain": [
       "<Figure size 432x288 with 1 Axes>"
      ]
     },
     "metadata": {
      "needs_background": "light"
     },
     "output_type": "display_data"
    }
   ],
   "source": [
    "n = random.randint(6,9999)\n",
    "plt.imshow(x_test[n])\n",
    "plt.show"
   ]
  },
  {
   "cell_type": "code",
   "execution_count": 46,
   "id": "87508d17",
   "metadata": {},
   "outputs": [],
   "source": [
    "predicted_value = model.predict(x_test)"
   ]
  },
  {
   "cell_type": "code",
   "execution_count": 47,
   "id": "f7f03939",
   "metadata": {},
   "outputs": [
    {
     "name": "stdout",
     "output_type": "stream",
     "text": [
      "handwritten number is= 3\n"
     ]
    }
   ],
   "source": [
    "print(\"handwritten number is= %d\" %np.argmax(predicted_value[n]))"
   ]
  },
  {
   "cell_type": "code",
   "execution_count": 32,
   "id": "3ba4bd2e",
   "metadata": {},
   "outputs": [
    {
     "data": {
      "text/plain": [
       "<AxesSubplot:>"
      ]
     },
     "execution_count": 32,
     "metadata": {},
     "output_type": "execute_result"
    },
    {
     "data": {
      "image/png": "[encoded data removed]",
      "text/plain": [
       "<Figure size 432x288 with 1 Axes>"
      ]
     },
     "metadata": {
      "needs_background": "light"
     },
     "output_type": "display_data"
    }
   ],
   "source": [
    "#f. plot the training loss and accuracy\n",
    "pd.DataFrame(history.history).plot()"
   ]
  },
  {
   "cell_type": "code",
   "execution_count": null,
   "id": "21bc73a4",
   "metadata": {},
   "outputs": [],
   "source": []
  },
  {
   "cell_type": "code",
   "execution_count": null,
   "id": "4c85ae9c",
   "metadata": {},
   "outputs": [],
   "source": []
  },
  {
   "cell_type": "code",
   "execution_count": null,
   "id": "cb6551e4",
   "metadata": {},
   "outputs": [],
   "source": []
  }
 ],
 "metadata": {
  "kernelspec": {
   "display_name": "Python 3",
   "language": "python",
   "name": "python3"
  },
  "language_info": {
   "codemirror_mode": {
    "name": "ipython",
    "version": 3
   },
   "file_extension": ".py",
   "mimetype": "text/x-python",
   "name": "python",
   "nbconvert_exporter": "python",
   "pygments_lexer": "ipython3",
   "version": "3.8.8"
  }
 },
 "nbformat": 4,
 "nbformat_minor": 5
}
